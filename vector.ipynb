{
 "cells": [
  {
   "cell_type": "markdown",
   "id": "a934ad9c-edc0-428a-83ca-d0d80f96be1d",
   "metadata": {},
   "source": [
    "# Part 3: Query text chunk embeddings in a vector database\n",
    "\n",
    "This notebook illustrates how to query the text chunk embeddings which have been stored in `LanceDB`\n",
    "\n",
    "Presentation for GraphGeeks.org on 2024-08-14\n"
   ]
  },
  {
   "cell_type": "code",
   "execution_count": 1,
   "id": "2d3ead6f-00a4-4f3d-b705-9a6ccdea6de1",
   "metadata": {
    "execution": {
     "iopub.execute_input": "2024-08-02T23:34:21.591727Z",
     "iopub.status.busy": "2024-08-02T23:34:21.591261Z",
     "iopub.status.idle": "2024-08-02T23:34:22.050051Z",
     "shell.execute_reply": "2024-08-02T23:34:22.049668Z",
     "shell.execute_reply.started": "2024-08-02T23:34:21.591705Z"
    }
   },
   "outputs": [],
   "source": [
    "import lancedb\n",
    "import pandas as pd\n",
    "\n",
    "LANCEDB_URI: str = \"data/lancedb\"\n",
    "\n",
    "vect_db: lancedb.db.LanceDBConnection = lancedb.connect(LANCEDB_URI)\n",
    "chunk_table: lancedb.table.LanceTable = vect_db.open_table(\"chunk\")"
   ]
  },
  {
   "cell_type": "code",
   "execution_count": 2,
   "id": "345e3a74-3ef9-4e6a-afad-e48ad99e6c94",
   "metadata": {
    "execution": {
     "iopub.execute_input": "2024-08-02T23:34:38.445441Z",
     "iopub.status.busy": "2024-08-02T23:34:38.445182Z",
     "iopub.status.idle": "2024-08-02T23:34:38.448420Z",
     "shell.execute_reply": "2024-08-02T23:34:38.447573Z",
     "shell.execute_reply.started": "2024-08-02T23:34:38.445424Z"
    }
   },
   "outputs": [],
   "source": [
    "query: str = \"alzheimer\""
   ]
  },
  {
   "cell_type": "code",
   "execution_count": 3,
   "id": "45b9ee93-8c21-47d8-9a2f-b75db40946d9",
   "metadata": {
    "execution": {
     "iopub.execute_input": "2024-08-02T23:34:38.886094Z",
     "iopub.status.busy": "2024-08-02T23:34:38.885520Z",
     "iopub.status.idle": "2024-08-02T23:34:38.926879Z",
     "shell.execute_reply": "2024-08-02T23:34:38.926499Z",
     "shell.execute_reply.started": "2024-08-02T23:34:38.886052Z"
    }
   },
   "outputs": [
    {
     "data": {
      "text/html": [
       "<div>\n",
       "<style scoped>\n",
       "    .dataframe tbody tr th:only-of-type {\n",
       "        vertical-align: middle;\n",
       "    }\n",
       "\n",
       "    .dataframe tbody tr th {\n",
       "        vertical-align: top;\n",
       "    }\n",
       "\n",
       "    .dataframe thead th {\n",
       "        text-align: right;\n",
       "    }\n",
       "</style>\n",
       "<table border=\"1\" class=\"dataframe\">\n",
       "  <thead>\n",
       "    <tr style=\"text-align: right;\">\n",
       "      <th></th>\n",
       "      <th>uid</th>\n",
       "      <th>url</th>\n",
       "      <th>text</th>\n",
       "      <th>vector</th>\n",
       "      <th>_distance</th>\n",
       "    </tr>\n",
       "  </thead>\n",
       "  <tbody>\n",
       "    <tr>\n",
       "      <th>0</th>\n",
       "      <td>6</td>\n",
       "      <td>https://aaic.alz.org/releases-2024/processed-r...</td>\n",
       "      <td>It may affect the brain because it has high le...</td>\n",
       "      <td>[-0.2228194, 0.14646272, -0.17765053, 0.046882...</td>\n",
       "      <td>32.434887</td>\n",
       "    </tr>\n",
       "    <tr>\n",
       "      <th>1</th>\n",
       "      <td>2</td>\n",
       "      <td>https://aaic.alz.org/releases-2024/processed-r...</td>\n",
       "      <td>However, there isn't a single food or ingredie...</td>\n",
       "      <td>[-0.30104715, 0.11894219, 0.019181475, 0.16478...</td>\n",
       "      <td>36.896915</td>\n",
       "    </tr>\n",
       "    <tr>\n",
       "      <th>2</th>\n",
       "      <td>1</td>\n",
       "      <td>https://aaic.alz.org/releases-2024/processed-r...</td>\n",
       "      <td>The findings also suggest that people can decr...</td>\n",
       "      <td>[-0.15229338, 0.04305303, 0.13606076, 0.057495...</td>\n",
       "      <td>38.675426</td>\n",
       "    </tr>\n",
       "    <tr>\n",
       "      <th>3</th>\n",
       "      <td>9</td>\n",
       "      <td>https://www.theguardian.com/society/article/20...</td>\n",
       "      <td>US researchers say they have uncovered potenti...</td>\n",
       "      <td>[-0.18628068, 0.11941341, 0.038140777, 0.08855...</td>\n",
       "      <td>39.155533</td>\n",
       "    </tr>\n",
       "    <tr>\n",
       "      <th>4</th>\n",
       "      <td>8</td>\n",
       "      <td>https://aaic.alz.org/releases-2024/processed-r...</td>\n",
       "      <td>Visit alz.org or call +1 800.272.3900.\\nMedia ...</td>\n",
       "      <td>[-0.39023447, 0.44175515, 0.03300902, -0.11983...</td>\n",
       "      <td>39.206448</td>\n",
       "    </tr>\n",
       "    <tr>\n",
       "      <th>5</th>\n",
       "      <td>12</td>\n",
       "      <td>https://www.theguardian.com/society/article/20...</td>\n",
       "      <td>\"Processed red meat has also been shown to rai...</td>\n",
       "      <td>[-0.10499321, 0.27258784, -0.094304174, 0.1779...</td>\n",
       "      <td>41.284718</td>\n",
       "    </tr>\n",
       "    <tr>\n",
       "      <th>6</th>\n",
       "      <td>5</td>\n",
       "      <td>https://aaic.alz.org/releases-2024/processed-r...</td>\n",
       "      <td>'Study results have been mixed on whether ther...</td>\n",
       "      <td>[-0.14424141, 0.17760234, -0.05021843, 0.13824...</td>\n",
       "      <td>41.565155</td>\n",
       "    </tr>\n",
       "    <tr>\n",
       "      <th>7</th>\n",
       "      <td>7</td>\n",
       "      <td>https://aaic.alz.org/releases-2024/processed-r...</td>\n",
       "      <td>About the Alzheimer's Association Internationa...</td>\n",
       "      <td>[-0.5352496, 0.039061576, -0.10276973, -0.0100...</td>\n",
       "      <td>41.768101</td>\n",
       "    </tr>\n",
       "    <tr>\n",
       "      <th>8</th>\n",
       "      <td>11</td>\n",
       "      <td>https://www.theguardian.com/society/article/20...</td>\n",
       "      <td>The study also suggested that replacing one da...</td>\n",
       "      <td>[-0.17177889, 0.18276517, -0.034152847, 0.2259...</td>\n",
       "      <td>42.898357</td>\n",
       "    </tr>\n",
       "    <tr>\n",
       "      <th>9</th>\n",
       "      <td>13</td>\n",
       "      <td>https://www.theguardian.com/society/article/20...</td>\n",
       "      <td>However, he urged caution because the research...</td>\n",
       "      <td>[-0.12684026, 0.2953341, -0.040284496, 0.09349...</td>\n",
       "      <td>42.925728</td>\n",
       "    </tr>\n",
       "  </tbody>\n",
       "</table>\n",
       "</div>"
      ],
      "text/plain": [
       "   uid                                                url  \\\n",
       "0    6  https://aaic.alz.org/releases-2024/processed-r...   \n",
       "1    2  https://aaic.alz.org/releases-2024/processed-r...   \n",
       "2    1  https://aaic.alz.org/releases-2024/processed-r...   \n",
       "3    9  https://www.theguardian.com/society/article/20...   \n",
       "4    8  https://aaic.alz.org/releases-2024/processed-r...   \n",
       "5   12  https://www.theguardian.com/society/article/20...   \n",
       "6    5  https://aaic.alz.org/releases-2024/processed-r...   \n",
       "7    7  https://aaic.alz.org/releases-2024/processed-r...   \n",
       "8   11  https://www.theguardian.com/society/article/20...   \n",
       "9   13  https://www.theguardian.com/society/article/20...   \n",
       "\n",
       "                                                text  \\\n",
       "0  It may affect the brain because it has high le...   \n",
       "1  However, there isn't a single food or ingredie...   \n",
       "2  The findings also suggest that people can decr...   \n",
       "3  US researchers say they have uncovered potenti...   \n",
       "4  Visit alz.org or call +1 800.272.3900.\\nMedia ...   \n",
       "5  \"Processed red meat has also been shown to rai...   \n",
       "6  'Study results have been mixed on whether ther...   \n",
       "7  About the Alzheimer's Association Internationa...   \n",
       "8  The study also suggested that replacing one da...   \n",
       "9  However, he urged caution because the research...   \n",
       "\n",
       "                                              vector  _distance  \n",
       "0  [-0.2228194, 0.14646272, -0.17765053, 0.046882...  32.434887  \n",
       "1  [-0.30104715, 0.11894219, 0.019181475, 0.16478...  36.896915  \n",
       "2  [-0.15229338, 0.04305303, 0.13606076, 0.057495...  38.675426  \n",
       "3  [-0.18628068, 0.11941341, 0.038140777, 0.08855...  39.155533  \n",
       "4  [-0.39023447, 0.44175515, 0.03300902, -0.11983...  39.206448  \n",
       "5  [-0.10499321, 0.27258784, -0.094304174, 0.1779...  41.284718  \n",
       "6  [-0.14424141, 0.17760234, -0.05021843, 0.13824...  41.565155  \n",
       "7  [-0.5352496, 0.039061576, -0.10276973, -0.0100...  41.768101  \n",
       "8  [-0.17177889, 0.18276517, -0.034152847, 0.2259...  42.898357  \n",
       "9  [-0.12684026, 0.2953341, -0.040284496, 0.09349...  42.925728  "
      ]
     },
     "execution_count": 3,
     "metadata": {},
     "output_type": "execute_result"
    }
   ],
   "source": [
    "df: pd.DataFrame = chunk_table.search(query).to_pandas()\n",
    "\n",
    "df"
   ]
  }
 ],
 "metadata": {
  "kernelspec": {
   "display_name": ".venv",
   "language": "python",
   "name": "python3"
  },
  "language_info": {
   "codemirror_mode": {
    "name": "ipython",
    "version": 3
   },
   "file_extension": ".py",
   "mimetype": "text/x-python",
   "name": "python",
   "nbconvert_exporter": "python",
   "pygments_lexer": "ipython3",
   "version": "3.12.8"
  }
 },
 "nbformat": 4,
 "nbformat_minor": 5
}
