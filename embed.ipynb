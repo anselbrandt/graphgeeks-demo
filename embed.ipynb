{
 "cells": [
  {
   "cell_type": "markdown",
   "id": "a934ad9c-edc0-428a-83ca-d0d80f96be1d",
   "metadata": {},
   "source": [
    "# Part 4: Query entity embeddings in Gensim\n",
    "\n",
    "This notebook illustrates how to query the entity embedding model in `gensim.Word2Vec`\n",
    "\n",
    "Presentation for GraphGeeks.org on 2024-08-14\n"
   ]
  },
  {
   "cell_type": "code",
   "execution_count": 1,
   "id": "2d3ead6f-00a4-4f3d-b705-9a6ccdea6de1",
   "metadata": {
    "execution": {
     "iopub.execute_input": "2024-08-04T05:36:48.228648Z",
     "iopub.status.busy": "2024-08-04T05:36:48.228512Z",
     "iopub.status.idle": "2024-08-04T05:36:48.920402Z",
     "shell.execute_reply": "2024-08-04T05:36:48.920079Z",
     "shell.execute_reply.started": "2024-08-04T05:36:48.228633Z"
    }
   },
   "outputs": [],
   "source": [
    "import gensim\n",
    "import matplotlib.pyplot as plt\n",
    "import pandas as pd\n",
    "\n",
    "W2V_MODEL: str = \"data/entity.w2v\"\n",
    "\n",
    "w2v_model: gensim.models.Word2Vec = gensim.models.Word2Vec.load(W2V_MODEL)"
   ]
  },
  {
   "cell_type": "code",
   "execution_count": 2,
   "id": "345e3a74-3ef9-4e6a-afad-e48ad99e6c94",
   "metadata": {
    "execution": {
     "iopub.execute_input": "2024-08-04T05:36:48.920863Z",
     "iopub.status.busy": "2024-08-04T05:36:48.920748Z",
     "iopub.status.idle": "2024-08-04T05:36:48.922440Z",
     "shell.execute_reply": "2024-08-04T05:36:48.922187Z",
     "shell.execute_reply.started": "2024-08-04T05:36:48.920856Z"
    }
   },
   "outputs": [],
   "source": [
    "query: str = \"NOUN.dementia\""
   ]
  },
  {
   "cell_type": "code",
   "execution_count": null,
   "id": "45b9ee93-8c21-47d8-9a2f-b75db40946d9",
   "metadata": {
    "execution": {
     "iopub.execute_input": "2024-08-04T05:36:48.922757Z",
     "iopub.status.busy": "2024-08-04T05:36:48.922694Z",
     "iopub.status.idle": "2024-08-04T05:36:48.959071Z",
     "shell.execute_reply": "2024-08-04T05:36:48.958384Z",
     "shell.execute_reply.started": "2024-08-04T05:36:48.922749Z"
    }
   },
   "outputs": [
    {
     "data": {
      "text/html": [
       "<div>\n",
       "<style scoped>\n",
       "    .dataframe tbody tr th:only-of-type {\n",
       "        vertical-align: middle;\n",
       "    }\n",
       "\n",
       "    .dataframe tbody tr th {\n",
       "        vertical-align: top;\n",
       "    }\n",
       "\n",
       "    .dataframe thead th {\n",
       "        text-align: right;\n",
       "    }\n",
       "</style>\n",
       "<table border=\"1\" class=\"dataframe\">\n",
       "  <thead>\n",
       "    <tr style=\"text-align: right;\">\n",
       "      <th></th>\n",
       "      <th>entity</th>\n",
       "      <th>distance</th>\n",
       "    </tr>\n",
       "  </thead>\n",
       "  <tbody>\n",
       "    <tr>\n",
       "      <th>0</th>\n",
       "      <td>PRON.he</td>\n",
       "      <td>0.297263</td>\n",
       "    </tr>\n",
       "    <tr>\n",
       "      <th>1</th>\n",
       "      <td>NOUN.time</td>\n",
       "      <td>0.231535</td>\n",
       "    </tr>\n",
       "    <tr>\n",
       "      <th>2</th>\n",
       "      <td>PROPN.aaic</td>\n",
       "      <td>0.223008</td>\n",
       "    </tr>\n",
       "    <tr>\n",
       "      <th>3</th>\n",
       "      <td>4</td>\n",
       "      <td>0.218132</td>\n",
       "    </tr>\n",
       "    <tr>\n",
       "      <th>4</th>\n",
       "      <td>DET.a ADJ.healthy NOUN.diet</td>\n",
       "      <td>0.209297</td>\n",
       "    </tr>\n",
       "    <tr>\n",
       "      <th>5</th>\n",
       "      <td>NOUN.researcher</td>\n",
       "      <td>0.198602</td>\n",
       "    </tr>\n",
       "    <tr>\n",
       "      <th>6</th>\n",
       "      <td>ADJ.harmful NOUN.substance</td>\n",
       "      <td>0.177671</td>\n",
       "    </tr>\n",
       "    <tr>\n",
       "      <th>7</th>\n",
       "      <td>NOUN.study</td>\n",
       "      <td>0.177093</td>\n",
       "    </tr>\n",
       "    <tr>\n",
       "      <th>8</th>\n",
       "      <td>PROPN.boston</td>\n",
       "      <td>0.159554</td>\n",
       "    </tr>\n",
       "    <tr>\n",
       "      <th>9</th>\n",
       "      <td>NOUN.meat NOUN.consumption</td>\n",
       "      <td>0.150200</td>\n",
       "    </tr>\n",
       "  </tbody>\n",
       "</table>\n",
       "</div>"
      ],
      "text/plain": [
       "                        entity  distance\n",
       "0                      PRON.he  0.297263\n",
       "1                    NOUN.time  0.231535\n",
       "2                   PROPN.aaic  0.223008\n",
       "3                            4  0.218132\n",
       "4  DET.a ADJ.healthy NOUN.diet  0.209297\n",
       "5              NOUN.researcher  0.198602\n",
       "6   ADJ.harmful NOUN.substance  0.177671\n",
       "7                   NOUN.study  0.177093\n",
       "8                 PROPN.boston  0.159554\n",
       "9   NOUN.meat NOUN.consumption  0.150200"
      ]
     },
     "execution_count": 3,
     "metadata": {},
     "output_type": "execute_result"
    }
   ],
   "source": [
    "df: pd.DataFrame = pd.DataFrame(\n",
    "    [\n",
    "        {\n",
    "            \"entity\": neighbor[0],\n",
    "            \"distance\": neighbor[1],\n",
    "        }\n",
    "        for neighbor in w2v_model.wv.most_similar(positive=[query], topn=10)\n",
    "        if neighbor[1] > 0.0\n",
    "    ]\n",
    ")\n",
    "\n",
    "df"
   ]
  },
  {
   "cell_type": "markdown",
   "id": "d431c8e5-89ad-4410-b5b1-331375a35e93",
   "metadata": {},
   "source": [
    "Neighbors with distances approaching zero tend to be _synonyms_, while those with distances above the mean tend to be _semantically related_.\n"
   ]
  },
  {
   "cell_type": "code",
   "execution_count": 4,
   "id": "64e97cc2-5872-4ac5-95df-d8a4eae6dbf3",
   "metadata": {
    "execution": {
     "iopub.execute_input": "2024-08-04T05:36:48.960066Z",
     "iopub.status.busy": "2024-08-04T05:36:48.959919Z",
     "iopub.status.idle": "2024-08-04T05:36:48.982524Z",
     "shell.execute_reply": "2024-08-04T05:36:48.977276Z",
     "shell.execute_reply.started": "2024-08-04T05:36:48.960051Z"
    }
   },
   "outputs": [
    {
     "data": {
      "text/plain": [
       "0.20423554331064225"
      ]
     },
     "execution_count": 4,
     "metadata": {},
     "output_type": "execute_result"
    }
   ],
   "source": [
    "df.distance.mean()"
   ]
  },
  {
   "cell_type": "code",
   "execution_count": null,
   "id": "a89c46e7-3dfe-46b3-9853-2e328e41be6e",
   "metadata": {
    "execution": {
     "iopub.execute_input": "2024-08-04T05:36:48.985404Z",
     "iopub.status.busy": "2024-08-04T05:36:48.983426Z",
     "iopub.status.idle": "2024-08-04T05:36:49.154682Z",
     "shell.execute_reply": "2024-08-04T05:36:49.151383Z",
     "shell.execute_reply.started": "2024-08-04T05:36:48.985381Z"
    }
   },
   "outputs": [
    {
     "data": {
      "image/png": "[encoded data removed]",
      "text/plain": [
       "<Figure size 640x480 with 1 Axes>"
      ]
     },
     "metadata": {},
     "output_type": "display_data"
    }
   ],
   "source": [
    "fig, ax = plt.subplots()\n",
    "\n",
    "fig.suptitle(\n",
    "    f\"query: {query}\",\n",
    "    fontsize=11,\n",
    ")\n",
    "\n",
    "df.plot(\n",
    "    \"entity\",\n",
    "    \"distance\",\n",
    "    kind=\"scatter\",\n",
    "    ax=ax,\n",
    ")\n",
    "\n",
    "for index, row in df.iterrows():\n",
    "    ax.annotate(\n",
    "        row[\"entity\"],\n",
    "        (row[\"entity\"], row[\"distance\"]),\n",
    "        size=8,\n",
    "    )\n",
    "\n",
    "plt.xticks([])\n",
    "ax.set_xlabel(\"entities\")\n",
    "ax.set_ylabel(\"embedding distance\")\n",
    "\n",
    "plt.axhline(y=df.distance.mean())\n",
    "\n",
    "plt.show()"
   ]
  }
 ],
 "metadata": {
  "kernelspec": {
   "display_name": ".venv",
   "language": "python",
   "name": "python3"
  },
  "language_info": {
   "codemirror_mode": {
    "name": "ipython",
    "version": 3
   },
   "file_extension": ".py",
   "mimetype": "text/x-python",
   "name": "python",
   "nbconvert_exporter": "python",
   "pygments_lexer": "ipython3",
   "version": "3.12.8"
  }
 },
 "nbformat": 4,
 "nbformat_minor": 5
}
